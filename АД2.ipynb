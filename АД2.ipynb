{
  "nbformat": 4,
  "nbformat_minor": 0,
  "metadata": {
    "colab": {
      "provenance": [],
      "mount_file_id": "1dvWVaa-RrQDtc_Wx9M6G1qDRjp9x7ppm",
      "authorship_tag": "ABX9TyN1/VeWPWWbRRxYYPpYfu3v",
      "include_colab_link": true
    },
    "kernelspec": {
      "name": "python3",
      "display_name": "Python 3"
    },
    "language_info": {
      "name": "python"
    }
  },
  "cells": [
    {
      "cell_type": "markdown",
      "metadata": {
        "id": "view-in-github",
        "colab_type": "text"
      },
      "source": [
        "<a href=\"https://colab.research.google.com/github/IsSveshuD/AD_lab_2/blob/main/%D0%90%D0%942.ipynb\" target=\"_parent\"><img src=\"https://colab.research.google.com/assets/colab-badge.svg\" alt=\"Open In Colab\"/></a>"
      ]
    },
    {
      "cell_type": "markdown",
      "source": [
        "### Отчёт по лабораторной работе №2: Введение в Pandas. Создание объекта Series в Pandas\n",
        "\n",
        "Выполнил студент ИВТ-б-о-21-1: Лысенко Иван Александрович"
      ],
      "metadata": {
        "id": "Uo0ZfZBa3jFy"
      }
    },
    {
      "cell_type": "code",
      "execution_count": 2,
      "metadata": {
        "id": "He-LLBMm3Y8p"
      },
      "outputs": [],
      "source": [
        "import pandas as pd"
      ]
    },
    {
      "cell_type": "markdown",
      "source": [
        "1. Создал объект Series из списка чисел [1, 2, 3] с метками [a, b, c] и вывел\n",
        "его на печать."
      ],
      "metadata": {
        "id": "7GNPEABn4euc"
      }
    },
    {
      "cell_type": "code",
      "source": [
        "data = [1, 2, 3]\n",
        "labels = ['a', 'b', 'c']\n",
        "s = pd.Series(data, index=labels)\n",
        "\n",
        "print(s)"
      ],
      "metadata": {
        "colab": {
          "base_uri": "https://localhost:8080/"
        },
        "id": "Ufd0uFt_3et5",
        "outputId": "831326d4-2a21-4c72-b36b-13cdb7e1b8c0"
      },
      "execution_count": 3,
      "outputs": [
        {
          "output_type": "stream",
          "name": "stdout",
          "text": [
            "a    1\n",
            "b    2\n",
            "c    3\n",
            "dtype: int64\n"
          ]
        }
      ]
    },
    {
      "cell_type": "markdown",
      "source": [
        "2. Создал объект Series из словаря {'a': 1, 'b': 2, 'c': 3} и вывел его на\n",
        "печать"
      ],
      "metadata": {
        "id": "ti6x7Z-p470D"
      }
    },
    {
      "cell_type": "code",
      "source": [
        "dict_d = {'a': 1, 'b': 2, 'c': 3}\n",
        "s = pd.Series(dict_d)\n",
        "\n",
        "print(s)"
      ],
      "metadata": {
        "colab": {
          "base_uri": "https://localhost:8080/"
        },
        "id": "J2CQM2jD46of",
        "outputId": "78297e4d-63e2-4144-eda7-09086fddcfd8"
      },
      "execution_count": 4,
      "outputs": [
        {
          "output_type": "stream",
          "name": "stdout",
          "text": [
            "a    1\n",
            "b    2\n",
            "c    3\n",
            "dtype: int64\n"
          ]
        }
      ]
    },
    {
      "cell_type": "markdown",
      "source": [
        "3. Создал объект массива NumPy arr = [1, 2, 3, 4, 5] , затем из него создал\n",
        "объект Series и вывел его на печать."
      ],
      "metadata": {
        "id": "yqlutSMM5nqr"
      }
    },
    {
      "cell_type": "code",
      "source": [
        "import numpy as np\n",
        "\n",
        "arr = np.array([1, 2, 3, 4, 5])\n",
        "s = pd.Series(arr)\n",
        "\n",
        "print(s)"
      ],
      "metadata": {
        "colab": {
          "base_uri": "https://localhost:8080/"
        },
        "id": "K5QU0Jli5mv4",
        "outputId": "46772906-b338-434c-80d0-cc54b5456c22"
      },
      "execution_count": 5,
      "outputs": [
        {
          "output_type": "stream",
          "name": "stdout",
          "text": [
            "0    1\n",
            "1    2\n",
            "2    3\n",
            "3    4\n",
            "4    5\n",
            "dtype: int64\n"
          ]
        }
      ]
    },
    {
      "cell_type": "markdown",
      "source": [
        "4. Создал объект Series с заполнением по умолчанию значением 0 и метками [a, b,\n",
        "c] и вывел его на печать."
      ],
      "metadata": {
        "id": "VqqUi9xM6UeN"
      }
    },
    {
      "cell_type": "code",
      "source": [
        "labels = ['a', 'b', 'c']\n",
        "series_object = pd.Series(0, index=labels)\n",
        "\n",
        "print(s)"
      ],
      "metadata": {
        "colab": {
          "base_uri": "https://localhost:8080/"
        },
        "id": "ZyPRGfaW6P0e",
        "outputId": "1ff06446-c2fe-41e2-c91e-22997973a0ae"
      },
      "execution_count": 6,
      "outputs": [
        {
          "output_type": "stream",
          "name": "stdout",
          "text": [
            "0    1\n",
            "1    2\n",
            "2    3\n",
            "3    4\n",
            "4    5\n",
            "dtype: int64\n"
          ]
        }
      ]
    },
    {
      "cell_type": "markdown",
      "source": [
        "5. В первой строке ввода с клавиатуры поступает строка с символами разлепленными\n",
        "пробелом, во второй строка с целыми числами. На их основе создал список кортежей и из него объект Series, вывел его на печать."
      ],
      "metadata": {
        "id": "cp7c91WU6ztA"
      }
    },
    {
      "cell_type": "code",
      "source": [
        "in_chars = input(\"Введите символы через пробел: \")\n",
        "chars_list = in_chars.split()\n",
        "\n",
        "in_numb = input(\"Введите целые числа через пробел: \")\n",
        "numbers_list = [int(num) for num in in_numb.split()]\n",
        "\n",
        "#Создаём список кортежей\n",
        "tuples = list(zip(chars_list, numbers_list))\n",
        "\n",
        "#Создаём объект Series и выводим на печать\n",
        "s = pd.Series(index=[t[0] for t in tuples], data=[t[1] for t in tuples])\n",
        "print(s)"
      ],
      "metadata": {
        "colab": {
          "base_uri": "https://localhost:8080/"
        },
        "id": "uc1HyHvN69aF",
        "outputId": "784f2154-0f06-4c05-91a0-857d97ba4602"
      },
      "execution_count": 10,
      "outputs": [
        {
          "output_type": "stream",
          "name": "stdout",
          "text": [
            "Введите символы через пробел: й ц у к\n",
            "Введите целые числа через пробел: 1 2 3 4\n",
            "й    1\n",
            "ц    2\n",
            "у    3\n",
            "к    4\n",
            "dtype: int64\n"
          ]
        }
      ]
    },
    {
      "cell_type": "markdown",
      "source": [
        "6. На вход поступает строка слов, разделенных пробелом. Создал на ее основе\n",
        "объект Series с метками 0, 1, 2,... Вывел его на печать."
      ],
      "metadata": {
        "id": "Mur6DlEA_Tdy"
      }
    },
    {
      "cell_type": "code",
      "source": [
        "in_str = input(\"Введите слова через пробел: \")\n",
        "words = in_str.split()\n",
        "s = pd.Series(words)\n",
        "print(s)"
      ],
      "metadata": {
        "colab": {
          "base_uri": "https://localhost:8080/"
        },
        "id": "I69zkEA_8VMT",
        "outputId": "0a39e7e3-a3d7-4eea-b5ee-f87e6b386562"
      },
      "execution_count": 11,
      "outputs": [
        {
          "output_type": "stream",
          "name": "stdout",
          "text": [
            "Введите слова через пробел: кот мышь собака енот\n",
            "0       кот\n",
            "1      мышь\n",
            "2    собака\n",
            "3      енот\n",
            "dtype: object\n"
          ]
        }
      ]
    },
    {
      "cell_type": "markdown",
      "source": [
        "7. На вход поступает последовательность из чисел 0 и 1, разделенных пробелом.\n",
        "Создал на ее основе объект Series, содержащий булевы значения True (1) , False\n",
        "(0) c метками [a, b, c, d,...]"
      ],
      "metadata": {
        "id": "2Zq9pirx_-zR"
      }
    },
    {
      "cell_type": "code",
      "source": [
        "in_str = input(\"Введите последовательность чисел 0 и 1 через пробел: \")\n",
        "numbers_list = [int(num) for num in in_str.split()]\n",
        "bool_s = pd.Series(numbers_list, dtype=bool)\n",
        "bool_s.index = [chr(ord('a') + i) for i in range(len(bool_s))]\n",
        "print(bool_s)"
      ],
      "metadata": {
        "colab": {
          "base_uri": "https://localhost:8080/"
        },
        "id": "TxNcR5QF_5-b",
        "outputId": "e98ea9c3-7e84-41e9-b861-c6cab031630f"
      },
      "execution_count": 12,
      "outputs": [
        {
          "output_type": "stream",
          "name": "stdout",
          "text": [
            "Введите последовательность чисел 0 и 1, разделенных пробелом: 0 1 1 0\n",
            "a    False\n",
            "b     True\n",
            "c     True\n",
            "d    False\n",
            "dtype: bool\n"
          ]
        }
      ]
    },
    {
      "cell_type": "markdown",
      "source": [
        "8. Создал объект Series из списка дат ['2022-01-01', '2022-01-02', '2022-01-03'] , вывел его на печать."
      ],
      "metadata": {
        "id": "V-HlzuPAA1zL"
      }
    },
    {
      "cell_type": "code",
      "source": [
        "from datetime import datetime\n",
        "\n",
        "date_s = ['2022-01-01', '2022-01-02', '2022-01-03']\n",
        "\n",
        "# Преобразуем в объекты datetime\n",
        "date_obj = [datetime.strptime(date, '%Y-%m-%d') for date in date_s]\n",
        "\n",
        "# Создаем объект Series\n",
        "date_series = pd.Series(date_obj)\n",
        "print(date_series)"
      ],
      "metadata": {
        "colab": {
          "base_uri": "https://localhost:8080/"
        },
        "id": "9pmZ8peeArMY",
        "outputId": "c8849f38-a0bd-4a78-b162-bc8ec7e27511"
      },
      "execution_count": 13,
      "outputs": [
        {
          "output_type": "stream",
          "name": "stdout",
          "text": [
            "0   2022-01-01\n",
            "1   2022-01-02\n",
            "2   2022-01-03\n",
            "dtype: datetime64[ns]\n"
          ]
        }
      ]
    },
    {
      "cell_type": "markdown",
      "source": [
        "9. На вход подаются два целых числа n и m через пробел. На их основе создал\n",
        "объект Series с числами от n до m (включительно) с шагом 10 и метками [1, 3, 5,\n",
        "7,...] . Вывел его на печать."
      ],
      "metadata": {
        "id": "4dyDZhwjBeqp"
      }
    },
    {
      "cell_type": "code",
      "source": [
        "n, m = map(int, input(\"Введите два целых числа n и m через пробел: \").split())\n",
        "\n",
        "# Создаем объект Series с числами от n до m (включительно) с шагом 10 и метками [1, 3, 5, 7, ...]\n",
        "series_object = pd.Series(range(n, m + 1, 10), index=range(1, ((m - n) // 10) * 2 + 2, 2))\n",
        "\n",
        "# Выводим объект Series на печать\n",
        "print(series_object)"
      ],
      "metadata": {
        "colab": {
          "base_uri": "https://localhost:8080/"
        },
        "id": "2W5SwPD7BdNT",
        "outputId": "8a132576-25d5-41ba-cc4f-598d6d92d6c4"
      },
      "execution_count": 19,
      "outputs": [
        {
          "output_type": "stream",
          "name": "stdout",
          "text": [
            "Введите два целых числа n и m через пробел: 5 30\n",
            "1     5\n",
            "3    15\n",
            "5    25\n",
            "dtype: int64\n"
          ]
        }
      ]
    },
    {
      "cell_type": "markdown",
      "source": [
        "### Индивидуальное задание\n",
        "Самостоятельно придумайте и решите задачу, где использовался бы объект Series\n",
        "библиотеки Pandas. Приведите решение в виде исполняемого модуля на языке\n",
        "программирования Python."
      ],
      "metadata": {
        "id": "OZ8qOeLZDF4s"
      }
    },
    {
      "cell_type": "markdown",
      "source": [
        "\n",
        "Есть датасет с информацией о продажах продуктов различных категорий в магазинах нескольких городов. Задача - выяснить, какая категория продуктов является самой продаваемой в каждом городе.\n"
      ],
      "metadata": {
        "id": "Zo5iWEEEDKeD"
      }
    },
    {
      "cell_type": "code",
      "source": [
        "\n",
        "#Подгрузим датасет\n",
        "df = pd.read_csv('/content/drive/MyDrive/Colab Notebooks/supermarket_sales.csv')\n",
        "sales_dataset = pd.DataFrame(df)\n",
        "print(sales_dataset)\n",
        "\n",
        "# Создадим объект Series с суммами продаж для каждой категории товаров в каждом городе\n",
        "sales_series = sales_dataset.groupby(['City', 'Product line'])['Total'].sum()\n",
        "\n",
        "# Находим индекс с максимальным значением (суммой продаж) в каждом городе\n",
        "max_sum = sales_series.groupby('City').idxmax()\n",
        "\n",
        "# Выводим результат на печать\n",
        "print(\"\\nСамая продаваемая категории товаров в магазинах каждого города:\")\n",
        "print(max_sum)"
      ],
      "metadata": {
        "colab": {
          "base_uri": "https://localhost:8080/"
        },
        "id": "Mn6ktJn_B66f",
        "outputId": "b07990d9-dfe4-4c21-f308-1e67ee2aed06"
      },
      "execution_count": 24,
      "outputs": [
        {
          "output_type": "stream",
          "name": "stdout",
          "text": [
            "      Invoice ID Branch       City Customer type  Gender  \\\n",
            "0    750-67-8428      A     Yangon        Member  Female   \n",
            "1    226-31-3081      C  Naypyitaw        Normal  Female   \n",
            "2    631-41-3108      A     Yangon        Normal    Male   \n",
            "3    123-19-1176      A     Yangon        Member    Male   \n",
            "4    373-73-7910      A     Yangon        Normal    Male   \n",
            "..           ...    ...        ...           ...     ...   \n",
            "995  233-67-5758      C  Naypyitaw        Normal    Male   \n",
            "996  303-96-2227      B   Mandalay        Normal  Female   \n",
            "997  727-02-1313      A     Yangon        Member    Male   \n",
            "998  347-56-2442      A     Yangon        Normal    Male   \n",
            "999  849-09-3807      A     Yangon        Member  Female   \n",
            "\n",
            "               Product line  Unit price  Quantity   Tax 5%      Total  \\\n",
            "0         Health and beauty       74.69         7  26.1415   548.9715   \n",
            "1    Electronic accessories       15.28         5   3.8200    80.2200   \n",
            "2        Home and lifestyle       46.33         7  16.2155   340.5255   \n",
            "3         Health and beauty       58.22         8  23.2880   489.0480   \n",
            "4         Sports and travel       86.31         7  30.2085   634.3785   \n",
            "..                      ...         ...       ...      ...        ...   \n",
            "995       Health and beauty       40.35         1   2.0175    42.3675   \n",
            "996      Home and lifestyle       97.38        10  48.6900  1022.4900   \n",
            "997      Food and beverages       31.84         1   1.5920    33.4320   \n",
            "998      Home and lifestyle       65.82         1   3.2910    69.1110   \n",
            "999     Fashion accessories       88.34         7  30.9190   649.2990   \n",
            "\n",
            "          Date   Time      Payment    cogs  gross margin percentage  \\\n",
            "0     1/5/2019  13:08      Ewallet  522.83                 4.761905   \n",
            "1     3/8/2019  10:29         Cash   76.40                 4.761905   \n",
            "2     3/3/2019  13:23  Credit card  324.31                 4.761905   \n",
            "3    1/27/2019  20:33      Ewallet  465.76                 4.761905   \n",
            "4     2/8/2019  10:37      Ewallet  604.17                 4.761905   \n",
            "..         ...    ...          ...     ...                      ...   \n",
            "995  1/29/2019  13:46      Ewallet   40.35                 4.761905   \n",
            "996   3/2/2019  17:16      Ewallet  973.80                 4.761905   \n",
            "997   2/9/2019  13:22         Cash   31.84                 4.761905   \n",
            "998  2/22/2019  15:33         Cash   65.82                 4.761905   \n",
            "999  2/18/2019  13:28         Cash  618.38                 4.761905   \n",
            "\n",
            "     gross income  Rating  \n",
            "0         26.1415     9.1  \n",
            "1          3.8200     9.6  \n",
            "2         16.2155     7.4  \n",
            "3         23.2880     8.4  \n",
            "4         30.2085     5.3  \n",
            "..            ...     ...  \n",
            "995        2.0175     6.2  \n",
            "996       48.6900     4.4  \n",
            "997        1.5920     7.7  \n",
            "998        3.2910     4.1  \n",
            "999       30.9190     6.6  \n",
            "\n",
            "[1000 rows x 17 columns]\n",
            "\n",
            "Самая продаваемая категории товаров в магазинах каждого города:\n",
            "City\n",
            "Mandalay       (Mandalay, Sports and travel)\n",
            "Naypyitaw    (Naypyitaw, Food and beverages)\n",
            "Yangon          (Yangon, Home and lifestyle)\n",
            "Name: Total, dtype: object\n"
          ]
        }
      ]
    },
    {
      "cell_type": "code",
      "source": [],
      "metadata": {
        "id": "Io9YicaKRW1Q"
      },
      "execution_count": null,
      "outputs": []
    }
  ]
}